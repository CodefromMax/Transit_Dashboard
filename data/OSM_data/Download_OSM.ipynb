{
 "cells": [
  {
   "cell_type": "markdown",
   "metadata": {},
   "source": [
    "### 1. Download OpenStreetMap Data"
   ]
  },
  {
   "cell_type": "code",
   "execution_count": null,
   "metadata": {},
   "outputs": [],
   "source": [
    "# In order to install pydriosm you need to download postgresql\n",
    "# https://www.geeksforgeeks.org/how-to-fix-pg_config-executable-not-found-in-python/\n",
    "# !brew install postgresql"
   ]
  },
  {
   "cell_type": "code",
   "execution_count": null,
   "metadata": {},
   "outputs": [],
   "source": [
    "# !pip install pydriosm"
   ]
  },
  {
   "cell_type": "markdown",
   "metadata": {},
   "source": [
    "1.1 Initialize an instance for downloading the Geofabrik free data extracts"
   ]
  },
  {
   "cell_type": "code",
   "execution_count": 12,
   "metadata": {},
   "outputs": [
    {
     "name": "stdout",
     "output_type": "stream",
     "text": [
      "Geofabrik OpenStreetMap data extracts\n"
     ]
    },
    {
     "data": {
      "text/plain": [
       "{'.osm.bz2', '.osm.pbf', '.shp.zip'}"
      ]
     },
     "execution_count": 12,
     "metadata": {},
     "output_type": "execute_result"
    }
   ],
   "source": [
    "from pydriosm.downloader import GeofabrikDownloader\n",
    "# from pydriosm import GeofabrikDownloader\n",
    "\n",
    "# Create an instance for downloading the Geofabrik free data extracts\n",
    "gfd = GeofabrikDownloader()\n",
    "print(gfd.LONG_NAME)  # Name of the data\n",
    "gfd.FILE_FORMATS  # Available file formats\n"
   ]
  },
  {
   "cell_type": "markdown",
   "metadata": {},
   "source": [
    "### 1.2 It doesn't specify the different cities in Ontario. (Will investigate later on how to crop a region.\n",
    "https://docs.conveyal.com/prepare-inputs#cropping)\n",
    "For now, alternative method is used https://app.protomaps.com/ manually download"
   ]
  },
  {
   "cell_type": "code",
   "execution_count": 15,
   "metadata": {},
   "outputs": [
    {
     "name": "stdout",
     "output_type": "stream",
     "text": [
      "Downloading \"ontario-latest.osm.pbf\"\n",
      "\tto \"tests\\osm_data/ontario\\\" ... Done.\n"
     ]
    }
   ],
   "source": [
    "subrgn_name = 'Ontario'  # Name of a (sub)region; case-insensitive\n",
    "file_format = \".pbf\"  # OSM data file format\n",
    "dwnld_dir = \"tests\\\\osm_data\"  # Name of or path to a directory where the data is saved\n",
    "\n",
    "# Download the OSM PBF data of London from Geofabrik download server\n",
    "gfd.download_osm_data(\n",
    "    subregion_names=subrgn_name, osm_file_format=file_format, download_dir=dwnld_dir,\n",
    "    verbose=True)"
   ]
  },
  {
   "cell_type": "code",
   "execution_count": null,
   "metadata": {},
   "outputs": [],
   "source": []
  }
 ],
 "metadata": {
  "kernelspec": {
   "display_name": "Python 3",
   "language": "python",
   "name": "python3"
  },
  "language_info": {
   "codemirror_mode": {
    "name": "ipython",
    "version": 3
   },
   "file_extension": ".py",
   "mimetype": "text/x-python",
   "name": "python",
   "nbconvert_exporter": "python",
   "pygments_lexer": "ipython3",
   "version": "3.9.13"
  }
 },
 "nbformat": 4,
 "nbformat_minor": 2
}
