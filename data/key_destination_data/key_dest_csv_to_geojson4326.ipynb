{
  "cells": [
    {
      "cell_type": "code",
      "execution_count": null,
      "metadata": {
        "colab": {
          "base_uri": "https://localhost:8080/",
          "height": 400
        },
        "id": "kdn1xKEVR7CF",
        "outputId": "f59d453b-1605-447f-bf1f-ebb4c9616039"
      },
      "outputs": [
        {
          "data": {
            "application/vnd.google.colaboratory.intrinsic+json": {
              "summary": "{\n  \"name\": \"gdf\",\n  \"rows\": 38,\n  \"fields\": [\n    {\n      \"column\": \"Address_ID\",\n      \"properties\": {\n        \"dtype\": \"int32\",\n        \"num_unique_values\": 38,\n        \"samples\": [\n          12601206,\n          20232082,\n          536800\n        ],\n        \"semantic_type\": \"\",\n        \"description\": \"\"\n      }\n    },\n    {\n      \"column\": \"ADDRESS_FULL\",\n      \"properties\": {\n        \"dtype\": \"string\",\n        \"num_unique_values\": 38,\n        \"samples\": [\n          \"345 Rumsey Rd\",\n          \"1001 Queen St W\",\n          \"4001 Leslie St\"\n        ],\n        \"semantic_type\": \"\",\n        \"description\": \"\"\n      }\n    },\n    {\n      \"column\": \"POSTAL_CODE\",\n      \"properties\": {\n        \"dtype\": \"string\",\n        \"num_unique_values\": 37,\n        \"samples\": [\n          \"M5S 1B2\",\n          \"M4M 2B5\",\n          \"M2K 1E1\"\n        ],\n        \"semantic_type\": \"\",\n        \"description\": \"\"\n      }\n    },\n    {\n      \"column\": \"MUNICIPALITY\",\n      \"properties\": {\n        \"dtype\": \"category\",\n        \"num_unique_values\": 6,\n        \"samples\": [\n          \"YORK\",\n          \"NORTH YORK\",\n          \"EAST YORK\"\n        ],\n        \"semantic_type\": \"\",\n        \"description\": \"\"\n      }\n    },\n    {\n      \"column\": \"PLACE_NAME\",\n      \"properties\": {\n        \"dtype\": \"string\",\n        \"num_unique_values\": 33,\n        \"samples\": [\n          \"Princess Margaret Hosp\",\n          \"Sunnybrook & Women's Coll Orth&Arth Site\",\n          \"Scar Grace Hosp - Scar General Site\"\n        ],\n        \"semantic_type\": \"\",\n        \"description\": \"\"\n      }\n    },\n    {\n      \"column\": \"LONGITUDE\",\n      \"properties\": {\n        \"dtype\": \"number\",\n        \"std\": 0.07737493740762216,\n        \"min\": -79.5987,\n        \"max\": -79.205,\n        \"num_unique_values\": 36,\n        \"samples\": [\n          -79.4892,\n          -79.3552,\n          -79.2475\n        ],\n        \"semantic_type\": \"\",\n        \"description\": \"\"\n      }\n    },\n    {\n      \"column\": \"LATITUDE\",\n      \"properties\": {\n        \"dtype\": \"number\",\n        \"std\": 0.04967564323270733,\n        \"min\": 43.6093,\n        \"max\": 43.8019,\n        \"num_unique_values\": 37,\n        \"samples\": [\n          43.6615,\n          43.6658,\n          43.7696\n        ],\n        \"semantic_type\": \"\",\n        \"description\": \"\"\n      }\n    },\n    {\n      \"column\": \"geometry\",\n      \"properties\": {\n        \"dtype\": \"geometry\",\n        \"num_unique_values\": 38,\n        \"samples\": [\n          \"POINT (-79.3715 43.7187)\",\n          \"POINT (-79.4181 43.644)\",\n          \"POINT (-79.3625 43.7696)\"\n        ],\n        \"semantic_type\": \"\",\n        \"description\": \"\"\n      }\n    }\n  ]\n}",
              "type": "dataframe",
              "variable_name": "gdf"
            },
            "text/html": [
              "\n",
              "  <div id=\"df-b60b71bc-b5af-440f-bb91-f727cd435817\" class=\"colab-df-container\">\n",
              "    <div>\n",
              "<style scoped>\n",
              "    .dataframe tbody tr th:only-of-type {\n",
              "        vertical-align: middle;\n",
              "    }\n",
              "\n",
              "    .dataframe tbody tr th {\n",
              "        vertical-align: top;\n",
              "    }\n",
              "\n",
              "    .dataframe thead th {\n",
              "        text-align: right;\n",
              "    }\n",
              "</style>\n",
              "<table border=\"1\" class=\"dataframe\">\n",
              "  <thead>\n",
              "    <tr style=\"text-align: right;\">\n",
              "      <th></th>\n",
              "      <th>Address_ID</th>\n",
              "      <th>ADDRESS_FULL</th>\n",
              "      <th>POSTAL_CODE</th>\n",
              "      <th>MUNICIPALITY</th>\n",
              "      <th>PLACE_NAME</th>\n",
              "      <th>LONGITUDE</th>\n",
              "      <th>LATITUDE</th>\n",
              "      <th>geometry</th>\n",
              "    </tr>\n",
              "  </thead>\n",
              "  <tbody>\n",
              "    <tr>\n",
              "      <th>0</th>\n",
              "      <td>54248</td>\n",
              "      <td>82 Buttonwood Ave</td>\n",
              "      <td>M6M 2J5</td>\n",
              "      <td>YORK</td>\n",
              "      <td>West Park Hospital</td>\n",
              "      <td>-79.5090</td>\n",
              "      <td>43.6893</td>\n",
              "      <td>POINT (-79.509 43.6893)</td>\n",
              "    </tr>\n",
              "    <tr>\n",
              "      <th>1</th>\n",
              "      <td>487172</td>\n",
              "      <td>3560 Bathurst St</td>\n",
              "      <td>M6A 2E1</td>\n",
              "      <td>NORTH YORK</td>\n",
              "      <td>Baycrest Centre</td>\n",
              "      <td>-79.4341</td>\n",
              "      <td>43.7301</td>\n",
              "      <td>POINT (-79.4341 43.7301)</td>\n",
              "    </tr>\n",
              "    <tr>\n",
              "      <th>2</th>\n",
              "      <td>504810</td>\n",
              "      <td>285 Cummer Ave</td>\n",
              "      <td>M2M 2G1</td>\n",
              "      <td>NORTH YORK</td>\n",
              "      <td>St. John's Hospital</td>\n",
              "      <td>-79.4047</td>\n",
              "      <td>43.7896</td>\n",
              "      <td>POINT (-79.4047 43.7896)</td>\n",
              "    </tr>\n",
              "    <tr>\n",
              "      <th>3</th>\n",
              "      <td>515959</td>\n",
              "      <td>685 Finch Ave W</td>\n",
              "      <td>M2R 1P2</td>\n",
              "      <td>NORTH YORK</td>\n",
              "      <td>St. Bernard's Hospital</td>\n",
              "      <td>-79.4569</td>\n",
              "      <td>43.7705</td>\n",
              "      <td>POINT (-79.4569 43.7705)</td>\n",
              "    </tr>\n",
              "    <tr>\n",
              "      <th>4</th>\n",
              "      <td>536800</td>\n",
              "      <td>4001 Leslie St</td>\n",
              "      <td>M2K 1E1</td>\n",
              "      <td>NORTH YORK</td>\n",
              "      <td>North York General Hospital</td>\n",
              "      <td>-79.3625</td>\n",
              "      <td>43.7696</td>\n",
              "      <td>POINT (-79.3625 43.7696)</td>\n",
              "    </tr>\n",
              "  </tbody>\n",
              "</table>\n",
              "</div>\n",
              "    <div class=\"colab-df-buttons\">\n",
              "\n",
              "  <div class=\"colab-df-container\">\n",
              "    <button class=\"colab-df-convert\" onclick=\"convertToInteractive('df-b60b71bc-b5af-440f-bb91-f727cd435817')\"\n",
              "            title=\"Convert this dataframe to an interactive table.\"\n",
              "            style=\"display:none;\">\n",
              "\n",
              "  <svg xmlns=\"http://www.w3.org/2000/svg\" height=\"24px\" viewBox=\"0 -960 960 960\">\n",
              "    <path d=\"M120-120v-720h720v720H120Zm60-500h600v-160H180v160Zm220 220h160v-160H400v160Zm0 220h160v-160H400v160ZM180-400h160v-160H180v160Zm440 0h160v-160H620v160ZM180-180h160v-160H180v160Zm440 0h160v-160H620v160Z\"/>\n",
              "  </svg>\n",
              "    </button>\n",
              "\n",
              "  <style>\n",
              "    .colab-df-container {\n",
              "      display:flex;\n",
              "      gap: 12px;\n",
              "    }\n",
              "\n",
              "    .colab-df-convert {\n",
              "      background-color: #E8F0FE;\n",
              "      border: none;\n",
              "      border-radius: 50%;\n",
              "      cursor: pointer;\n",
              "      display: none;\n",
              "      fill: #1967D2;\n",
              "      height: 32px;\n",
              "      padding: 0 0 0 0;\n",
              "      width: 32px;\n",
              "    }\n",
              "\n",
              "    .colab-df-convert:hover {\n",
              "      background-color: #E2EBFA;\n",
              "      box-shadow: 0px 1px 2px rgba(60, 64, 67, 0.3), 0px 1px 3px 1px rgba(60, 64, 67, 0.15);\n",
              "      fill: #174EA6;\n",
              "    }\n",
              "\n",
              "    .colab-df-buttons div {\n",
              "      margin-bottom: 4px;\n",
              "    }\n",
              "\n",
              "    [theme=dark] .colab-df-convert {\n",
              "      background-color: #3B4455;\n",
              "      fill: #D2E3FC;\n",
              "    }\n",
              "\n",
              "    [theme=dark] .colab-df-convert:hover {\n",
              "      background-color: #434B5C;\n",
              "      box-shadow: 0px 1px 3px 1px rgba(0, 0, 0, 0.15);\n",
              "      filter: drop-shadow(0px 1px 2px rgba(0, 0, 0, 0.3));\n",
              "      fill: #FFFFFF;\n",
              "    }\n",
              "  </style>\n",
              "\n",
              "    <script>\n",
              "      const buttonEl =\n",
              "        document.querySelector('#df-b60b71bc-b5af-440f-bb91-f727cd435817 button.colab-df-convert');\n",
              "      buttonEl.style.display =\n",
              "        google.colab.kernel.accessAllowed ? 'block' : 'none';\n",
              "\n",
              "      async function convertToInteractive(key) {\n",
              "        const element = document.querySelector('#df-b60b71bc-b5af-440f-bb91-f727cd435817');\n",
              "        const dataTable =\n",
              "          await google.colab.kernel.invokeFunction('convertToInteractive',\n",
              "                                                    [key], {});\n",
              "        if (!dataTable) return;\n",
              "\n",
              "        const docLinkHtml = 'Like what you see? Visit the ' +\n",
              "          '<a target=\"_blank\" href=https://colab.research.google.com/notebooks/data_table.ipynb>data table notebook</a>'\n",
              "          + ' to learn more about interactive tables.';\n",
              "        element.innerHTML = '';\n",
              "        dataTable['output_type'] = 'display_data';\n",
              "        await google.colab.output.renderOutput(dataTable, element);\n",
              "        const docLink = document.createElement('div');\n",
              "        docLink.innerHTML = docLinkHtml;\n",
              "        element.appendChild(docLink);\n",
              "      }\n",
              "    </script>\n",
              "  </div>\n",
              "\n",
              "\n",
              "<div id=\"df-5313908d-fc07-499e-9241-91d336e19327\">\n",
              "  <button class=\"colab-df-quickchart\" onclick=\"quickchart('df-5313908d-fc07-499e-9241-91d336e19327')\"\n",
              "            title=\"Suggest charts\"\n",
              "            style=\"display:none;\">\n",
              "\n",
              "<svg xmlns=\"http://www.w3.org/2000/svg\" height=\"24px\"viewBox=\"0 0 24 24\"\n",
              "     width=\"24px\">\n",
              "    <g>\n",
              "        <path d=\"M19 3H5c-1.1 0-2 .9-2 2v14c0 1.1.9 2 2 2h14c1.1 0 2-.9 2-2V5c0-1.1-.9-2-2-2zM9 17H7v-7h2v7zm4 0h-2V7h2v10zm4 0h-2v-4h2v4z\"/>\n",
              "    </g>\n",
              "</svg>\n",
              "  </button>\n",
              "\n",
              "<style>\n",
              "  .colab-df-quickchart {\n",
              "      --bg-color: #E8F0FE;\n",
              "      --fill-color: #1967D2;\n",
              "      --hover-bg-color: #E2EBFA;\n",
              "      --hover-fill-color: #174EA6;\n",
              "      --disabled-fill-color: #AAA;\n",
              "      --disabled-bg-color: #DDD;\n",
              "  }\n",
              "\n",
              "  [theme=dark] .colab-df-quickchart {\n",
              "      --bg-color: #3B4455;\n",
              "      --fill-color: #D2E3FC;\n",
              "      --hover-bg-color: #434B5C;\n",
              "      --hover-fill-color: #FFFFFF;\n",
              "      --disabled-bg-color: #3B4455;\n",
              "      --disabled-fill-color: #666;\n",
              "  }\n",
              "\n",
              "  .colab-df-quickchart {\n",
              "    background-color: var(--bg-color);\n",
              "    border: none;\n",
              "    border-radius: 50%;\n",
              "    cursor: pointer;\n",
              "    display: none;\n",
              "    fill: var(--fill-color);\n",
              "    height: 32px;\n",
              "    padding: 0;\n",
              "    width: 32px;\n",
              "  }\n",
              "\n",
              "  .colab-df-quickchart:hover {\n",
              "    background-color: var(--hover-bg-color);\n",
              "    box-shadow: 0 1px 2px rgba(60, 64, 67, 0.3), 0 1px 3px 1px rgba(60, 64, 67, 0.15);\n",
              "    fill: var(--button-hover-fill-color);\n",
              "  }\n",
              "\n",
              "  .colab-df-quickchart-complete:disabled,\n",
              "  .colab-df-quickchart-complete:disabled:hover {\n",
              "    background-color: var(--disabled-bg-color);\n",
              "    fill: var(--disabled-fill-color);\n",
              "    box-shadow: none;\n",
              "  }\n",
              "\n",
              "  .colab-df-spinner {\n",
              "    border: 2px solid var(--fill-color);\n",
              "    border-color: transparent;\n",
              "    border-bottom-color: var(--fill-color);\n",
              "    animation:\n",
              "      spin 1s steps(1) infinite;\n",
              "  }\n",
              "\n",
              "  @keyframes spin {\n",
              "    0% {\n",
              "      border-color: transparent;\n",
              "      border-bottom-color: var(--fill-color);\n",
              "      border-left-color: var(--fill-color);\n",
              "    }\n",
              "    20% {\n",
              "      border-color: transparent;\n",
              "      border-left-color: var(--fill-color);\n",
              "      border-top-color: var(--fill-color);\n",
              "    }\n",
              "    30% {\n",
              "      border-color: transparent;\n",
              "      border-left-color: var(--fill-color);\n",
              "      border-top-color: var(--fill-color);\n",
              "      border-right-color: var(--fill-color);\n",
              "    }\n",
              "    40% {\n",
              "      border-color: transparent;\n",
              "      border-right-color: var(--fill-color);\n",
              "      border-top-color: var(--fill-color);\n",
              "    }\n",
              "    60% {\n",
              "      border-color: transparent;\n",
              "      border-right-color: var(--fill-color);\n",
              "    }\n",
              "    80% {\n",
              "      border-color: transparent;\n",
              "      border-right-color: var(--fill-color);\n",
              "      border-bottom-color: var(--fill-color);\n",
              "    }\n",
              "    90% {\n",
              "      border-color: transparent;\n",
              "      border-bottom-color: var(--fill-color);\n",
              "    }\n",
              "  }\n",
              "</style>\n",
              "\n",
              "  <script>\n",
              "    async function quickchart(key) {\n",
              "      const quickchartButtonEl =\n",
              "        document.querySelector('#' + key + ' button');\n",
              "      quickchartButtonEl.disabled = true;  // To prevent multiple clicks.\n",
              "      quickchartButtonEl.classList.add('colab-df-spinner');\n",
              "      try {\n",
              "        const charts = await google.colab.kernel.invokeFunction(\n",
              "            'suggestCharts', [key], {});\n",
              "      } catch (error) {\n",
              "        console.error('Error during call to suggestCharts:', error);\n",
              "      }\n",
              "      quickchartButtonEl.classList.remove('colab-df-spinner');\n",
              "      quickchartButtonEl.classList.add('colab-df-quickchart-complete');\n",
              "    }\n",
              "    (() => {\n",
              "      let quickchartButtonEl =\n",
              "        document.querySelector('#df-5313908d-fc07-499e-9241-91d336e19327 button');\n",
              "      quickchartButtonEl.style.display =\n",
              "        google.colab.kernel.accessAllowed ? 'block' : 'none';\n",
              "    })();\n",
              "  </script>\n",
              "</div>\n",
              "\n",
              "    </div>\n",
              "  </div>\n"
            ],
            "text/plain": [
              "   Address_ID       ADDRESS_FULL POSTAL_CODE MUNICIPALITY  \\\n",
              "0       54248  82 Buttonwood Ave     M6M 2J5         YORK   \n",
              "1      487172   3560 Bathurst St     M6A 2E1   NORTH YORK   \n",
              "2      504810     285 Cummer Ave     M2M 2G1   NORTH YORK   \n",
              "3      515959    685 Finch Ave W     M2R 1P2   NORTH YORK   \n",
              "4      536800     4001 Leslie St     M2K 1E1   NORTH YORK   \n",
              "\n",
              "                    PLACE_NAME  LONGITUDE  LATITUDE                  geometry  \n",
              "0           West Park Hospital   -79.5090   43.6893   POINT (-79.509 43.6893)  \n",
              "1              Baycrest Centre   -79.4341   43.7301  POINT (-79.4341 43.7301)  \n",
              "2          St. John's Hospital   -79.4047   43.7896  POINT (-79.4047 43.7896)  \n",
              "3       St. Bernard's Hospital   -79.4569   43.7705  POINT (-79.4569 43.7705)  \n",
              "4  North York General Hospital   -79.3625   43.7696  POINT (-79.3625 43.7696)  "
            ]
          },
          "execution_count": 28,
          "metadata": {},
          "output_type": "execute_result"
        }
      ],
      "source": [
        "import geopandas as gpd\n",
        "\n",
        "geojson_file = \"/content/Hospitals_4326.geojson\"\n",
        "gdf = gpd.read_file(geojson_file)\n",
        "\n",
        "gdf.head()"
      ]
    },
    {
      "cell_type": "code",
      "execution_count": null,
      "metadata": {
        "colab": {
          "base_uri": "https://localhost:8080/"
        },
        "id": "oRBuKLxOSfXJ",
        "outputId": "bf493b87-21b4-4062-f5c9-637638a78bc3"
      },
      "outputs": [
        {
          "data": {
            "text/plain": [
              "['Address_ID',\n",
              " 'ADDRESS_FULL',\n",
              " 'POSTAL_CODE',\n",
              " 'MUNICIPALITY',\n",
              " 'PLACE_NAME',\n",
              " 'LONGITUDE',\n",
              " 'LATITUDE']"
            ]
          },
          "execution_count": 4,
          "metadata": {},
          "output_type": "execute_result"
        }
      ],
      "source": [
        "cols_kept = gdf.columns.to_list()\n",
        "cols_kept[0:7]"
      ]
    },
    {
      "cell_type": "code",
      "execution_count": null,
      "metadata": {
        "id": "FwCLbUr3D-rx"
      },
      "outputs": [],
      "source": [
        "col_kept = ['ADDRESS_POINT_ID',\n",
        " 'ADDRESS_FULL',\n",
        " 'POSTAL_CODE',\n",
        " 'MUNICIPALITY',\n",
        " 'PLACE_NAME',\n",
        " 'LONGITUDE',\n",
        " 'LATITUDE']"
      ]
    },
    {
      "cell_type": "code",
      "execution_count": null,
      "metadata": {
        "id": "uZRQuhXFC9Fx"
      },
      "outputs": [],
      "source": [
        "import pandas as pd"
      ]
    },
    {
      "cell_type": "code",
      "execution_count": null,
      "metadata": {
        "id": "pKZiHjFICGtn"
      },
      "outputs": [],
      "source": [
        "# Exportable Links to google sheets\n",
        "exp_schools = '/content/Schools.xlsx'\n",
        "exp_libs = '/content/Libraries.xlsx'\n",
        "exp_cc = \"/content/Cooling_Center.xlsx\""
      ]
    },
    {
      "cell_type": "code",
      "execution_count": null,
      "metadata": {
        "id": "oSaXI_WuB5SL"
      },
      "outputs": [],
      "source": [
        "df = pd.read_excel(exp_schools, header=0)\n",
        "school = df[col_kept]"
      ]
    },
    {
      "cell_type": "code",
      "execution_count": null,
      "metadata": {
        "id": "YnHEIraxG31O"
      },
      "outputs": [],
      "source": [
        "df = pd.read_excel(exp_libs, header=0)\n",
        "libs = df[col_kept]"
      ]
    },
    {
      "cell_type": "code",
      "execution_count": null,
      "metadata": {
        "id": "v5-uG52hC-4M"
      },
      "outputs": [],
      "source": [
        "from shapely.geometry import Point\n",
        "\n",
        "def create_point(df):\n",
        "  df = df.rename(columns={'ADDRESS_POINT_ID': 'Address_ID'})\n",
        "  df['geometry'] = df.apply(lambda row: Point(row['LONGITUDE'], row['LATITUDE']), axis=1)\n",
        "\n",
        "  # Convert to GeoDataFrame\n",
        "  gdf = gpd.GeoDataFrame(df, geometry='geometry')\n",
        "\n",
        "  # Set a coordinate reference system (CRS)\n",
        "  # Replace EPSG:4326 with the appropriate CRS if needed\n",
        "  gdf.set_crs(epsg=4326, inplace=True)\n",
        "\n",
        "  return gdf"
      ]
    },
    {
      "cell_type": "code",
      "execution_count": null,
      "metadata": {
        "id": "sgAWz0vGF94d"
      },
      "outputs": [],
      "source": [
        "school_4326 = create_point(school)\n",
        "school_4326.to_file(\"Schools_4326.geojson\", driver=\"GeoJSON\")"
      ]
    },
    {
      "cell_type": "code",
      "execution_count": null,
      "metadata": {
        "id": "QI4j3zleGp1a"
      },
      "outputs": [],
      "source": [
        "libs_4326 = create_point(libs)\n",
        "libs_4326.to_file(\"Libraries_4326.geojson\", driver=\"GeoJSON\")"
      ]
    },
    {
      "cell_type": "code",
      "execution_count": null,
      "metadata": {
        "id": "GM_OgCzYHEXI"
      },
      "outputs": [],
      "source": [
        "cc = pd.read_excel(exp_cc, header=0)\n",
        "cc_4326 = create_point(cc)\n",
        "cc_4326.to_file(\"Cooling_Center_4326.geojson\", driver=\"GeoJSON\")"
      ]
    },
    {
      "cell_type": "code",
      "execution_count": 5,
      "metadata": {
        "id": "U1sBS_jfdpvU"
      },
      "outputs": [
        {
          "data": {
            "image/png": "[encoded data removed]",
            "text/plain": [
              "<Figure size 640x480 with 1 Axes>"
            ]
          },
          "metadata": {},
          "output_type": "display_data"
        }
      ],
      "source": [
        "import matplotlib.pyplot as plt\n",
        "import geopandas as gpd\n",
        "\n",
        "gdf = gpd.read_file(\"Supermarkets_4326.geojson\")\n",
        "# Change id to Address_ID\n",
        "gdf = gdf.rename(columns={'id': 'Address_ID'})\n",
        "gdf.to_file(\"Supermarkets_4326.geojson\", driver=\"GeoJSON\")\n",
        "# Plot the GeoDataFrame\n",
        "gdf.plot()\n",
        "plt.show()"
      ]
    },
    {
      "cell_type": "code",
      "execution_count": null,
      "metadata": {},
      "outputs": [],
      "source": []
    }
  ],
  "metadata": {
    "colab": {
      "provenance": []
    },
    "kernelspec": {
      "display_name": "Python 3",
      "name": "python3"
    },
    "language_info": {
      "codemirror_mode": {
        "name": "ipython",
        "version": 3
      },
      "file_extension": ".py",
      "mimetype": "text/x-python",
      "name": "python",
      "nbconvert_exporter": "python",
      "pygments_lexer": "ipython3",
      "version": "3.9.13"
    }
  },
  "nbformat": 4,
  "nbformat_minor": 0
}
