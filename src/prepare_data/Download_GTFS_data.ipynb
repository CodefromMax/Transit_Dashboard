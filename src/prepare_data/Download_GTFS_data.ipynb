{
 "cells": [
  {
   "cell_type": "code",
   "execution_count": null,
   "metadata": {},
   "outputs": [],
   "source": [
    "# pip install requests"
   ]
  },
  {
   "cell_type": "markdown",
   "metadata": {},
   "source": [
    "### 1. Download GTFS Data from Transitland \n",
    "(A sample GTFS Zip file is already downloaded, See step 2.)"
   ]
  },
  {
   "cell_type": "code",
   "execution_count": 4,
   "metadata": {},
   "outputs": [],
   "source": [
    "# import requests\n",
    "# import os\n",
    "# from datetime import datetime\n",
    "# import zipfile\n",
    "# import API_creds # This local file contains the API key (https://www.transit.land/documentation#signing-up-for-an-api-key)\n",
    "\n",
    "# feed_key = 'f-dpz8-ttc' https://www.transit.land/feeds/f-dpz8-ttc\n",
    "# url = f\"https://transit.land/api/v2/rest/feeds/{feed_key}/download_latest_feed_version?apikey={API_creds.api_key}\"\n",
    "\n",
    "\n",
    "# response = requests.get(url)\n",
    "\n",
    "# # Specify the directory where you want to save the file\n",
    "# directory = '../../data/GTFS_data/raw'\n",
    "# date_str = datetime.now().strftime('%Y-%m-%d')\n",
    "# filename = f'latest_feed_version_{date_str}.zip'\n",
    "# file_path = os.path.join(directory, filename)\n",
    "\n",
    "# # Save the file to the specified directory\n",
    "# with open(file_path, 'wb') as file:\n",
    "#     file.write(response.content)"
   ]
  },
  {
   "cell_type": "markdown",
   "metadata": {},
   "source": [
    "### 2. Extract GTFS data from the Zip file"
   ]
  },
  {
   "cell_type": "code",
   "execution_count": 1,
   "metadata": {},
   "outputs": [],
   "source": [
    "import os\n",
    "import zipfile\n",
    "from datetime import datetime\n",
    "\n",
    "# print(file_path)\n",
    "# Unzip the file into the specified directory\n",
    "zip_directory = '../../data/GTFS_data/raw'\n",
    "date_str = '2024-10-22'\n",
    "# Please uncomment the following line to use the current date\n",
    "# date_str = datetime.now().strftime('%Y-%m-%d')\n",
    "\n",
    "zip_filename = f'latest_feed_version_{date_str}.zip'\n",
    "zip_file_path = os.path.join(zip_directory, zip_filename)\n",
    "output_directory = '../../data/GTFS_data/extracted/'\n",
    "\n",
    "with zipfile.ZipFile(zip_file_path, 'r') as zip_ref:\n",
    "    zip_ref.extractall(output_directory + date_str)\n"
   ]
  },
  {
   "cell_type": "code",
   "execution_count": null,
   "metadata": {},
   "outputs": [],
   "source": []
  }
 ],
 "metadata": {
  "kernelspec": {
   "display_name": "Python 3",
   "language": "python",
   "name": "python3"
  },
  "language_info": {
   "codemirror_mode": {
    "name": "ipython",
    "version": 3
   },
   "file_extension": ".py",
   "mimetype": "text/x-python",
   "name": "python",
   "nbconvert_exporter": "python",
   "pygments_lexer": "ipython3",
   "version": "3.9.13"
  }
 },
 "nbformat": 4,
 "nbformat_minor": 2
}
