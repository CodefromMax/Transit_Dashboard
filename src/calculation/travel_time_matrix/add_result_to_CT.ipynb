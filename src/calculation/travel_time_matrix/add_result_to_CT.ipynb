{
 "cells": [
  {
   "cell_type": "code",
   "execution_count": 37,
   "metadata": {},
   "outputs": [],
   "source": [
    "import pandas as pd"
   ]
  },
  {
   "cell_type": "code",
   "execution_count": 40,
   "metadata": {},
   "outputs": [],
   "source": [
    "import pandas as pd\n",
    "\n",
    "def calculate_total_destinations(input_csv_path, column_names=None, output_csv_path=None, ):\n",
    "    \"\"\"\n",
    "    Calculate the total number of destinations (to_id) for each origin (from_id) in the travel time matrix.\n",
    "\n",
    "    Parameters:\n",
    "    input_csv_path (str): Path to the input CSV file containing the travel time matrix.\n",
    "    output_csv_path (str, optional): Path to save the output CSV file with the total number of destinations for each origin. Default is None.\n",
    "    column_names (dict, optional): A dictionary to rename the columns. Keys are the original column names and values are the new column names.\n",
    "\n",
    "    Returns:\n",
    "    pd.DataFrame: A DataFrame containing the total number of destinations for each origin.\n",
    "    \"\"\"\n",
    "    # Load the travel time matrix CSV file\n",
    "    travel_time_matrix = pd.read_csv(input_csv_path)\n",
    "    \n",
    "    # Group by 'from_id' and calculate the count of 'to_id' for each 'from_id'\n",
    "    total_destinations = travel_time_matrix.groupby('from_id')['to_id'].count().reset_index()\n",
    "    \n",
    "    # Rename the columns for clarity\n",
    "    total_destinations.columns = ['from_id', 'total_to_id']\n",
    "    \n",
    "    # Rename columns if column_names is provided\n",
    "    if column_names:\n",
    "        total_destinations.rename(columns=column_names, inplace=True)\n",
    "    \n",
    "    # Save the result to a CSV file if output_csv_path is provided\n",
    "    if output_csv_path:\n",
    "        total_destinations.to_csv(output_csv_path, index=False)\n",
    "    \n",
    "    return total_destinations"
   ]
  },
  {
   "cell_type": "code",
   "execution_count": 68,
   "metadata": {},
   "outputs": [
    {
     "name": "stdout",
     "output_type": "stream",
     "text": [
      "0      2\n",
      "1      3\n",
      "2      3\n",
      "3      3\n",
      "4      3\n",
      "      ..\n",
      "342    1\n",
      "343    1\n",
      "344    1\n",
      "345    1\n",
      "346    1\n",
      "Name: total_hospitals_within_30_mins, Length: 347, dtype: int64\n"
     ]
    }
   ],
   "source": [
    "# Example usage\n",
    "input_csv_path = \"../results/TTM_CT_hospitals_threshold_30.csv\"\n",
    "# output_csv_path = \"../results/total_destinations.csv\"\n",
    "column_names = {'from_id': 'CTUID', 'total_to_id': 'total_hospitals_within_30_mins'}\n",
    "\n",
    "total_destinations_df = calculate_total_destinations(input_csv_path, column_names)\n",
    "# total_destinations_df[\"total_hospitals_within_30_mins\"]=total_destinations_df[\"total_hospitals_within_30_mins\"]+1\n",
    "print(total_destinations_df[\"total_hospitals_within_30_mins\"])"
   ]
  },
  {
   "cell_type": "code",
   "execution_count": 69,
   "metadata": {},
   "outputs": [
    {
     "name": "stdout",
     "output_type": "stream",
     "text": [
      "0    5350128.04\n",
      "1    5350363.06\n",
      "2    5350363.07\n",
      "3    5350378.23\n",
      "4    5350378.24\n",
      "Name: CTUID, dtype: float64\n",
      "0    3.0\n",
      "1    2.0\n",
      "2    2.0\n",
      "3    0.0\n",
      "4    0.0\n",
      "Name: total_hospitals_within_30_mins_before, dtype: float64\n"
     ]
    }
   ],
   "source": [
    "import geopandas as gpd\n",
    "import pandas as pd\n",
    "\n",
    "def merge_gdf_with_df(gdf, df, key, new_column_names=None, save_path=None):\n",
    "    \"\"\"\n",
    "    Merge a GeoDataFrame with a DataFrame based on a specific key and rename the columns in the DataFrame.\n",
    "\n",
    "    Parameters:\n",
    "    gdf (GeoDataFrame): The original GeoDataFrame.\n",
    "    df (DataFrame): The DataFrame to merge with the GeoDataFrame.\n",
    "    key (str): The column name to join on.\n",
    "    new_column_names (dict, optional): A dictionary to rename the columns in the DataFrame. Keys are the original column names and values are the new column names.\n",
    "    save_path (str, optional): Path to save the updated GeoDataFrame to a file. Default is None.\n",
    "\n",
    "    Returns:\n",
    "    GeoDataFrame: The merged GeoDataFrame with the new columns added and renamed.\n",
    "    \"\"\"\n",
    "    # Convert the key columns in both DataFrames to the same type\n",
    "    gdf[key] = gdf[key].astype(float)\n",
    "    df[key] = df[key].astype(float)\n",
    "    \n",
    "    # Rename columns in the DataFrame if new_column_names is provided\n",
    "    if new_column_names:\n",
    "        df = df.rename(columns=new_column_names)\n",
    "    \n",
    "    # Merge the GeoDataFrame with the DataFrame on the specified key\n",
    "    merged_gdf = gdf.merge(df, on=key, how='left')\n",
    "    merged_gdf = merged_gdf.fillna(0)\n",
    "    # Save the updated GeoDataFrame to a file if save_path is provided\n",
    "    if save_path:\n",
    "        merged_gdf.to_file(save_path, driver='GeoJSON')\n",
    "    \n",
    "    return merged_gdf\n",
    "\n",
    "# Example usage\n",
    "geojson_path = '../../../data/census_tract_data/boundaries_centroid_combined_data.geojson'\n",
    "gdf = gpd.read_file(geojson_path)\n",
    "pdf = total_destinations_df\n",
    "# Define the new column names\n",
    "new_column_names = {\n",
    "    'CTUID': 'CTUID',\n",
    "    'total_hospitals_within_30_mins': 'total_hospitals_within_30_mins_before'\n",
    "}\n",
    "\n",
    "# Merge the GeoDataFrame with the DataFrame and rename columns\n",
    "output_geojson_path = '../results/boundaries_centroid_combined_data_with_hospital.geojson'\n",
    "combined_boundaries_with_hospitals = merge_gdf_with_df(gdf, pdf, 'CTUID', new_column_names, save_path=output_geojson_path)\n",
    "\n",
    "# Print the updated GeoDataFrame\n",
    "print(combined_boundaries_with_hospitals.head(5)[\"CTUID\"])\n",
    "print(combined_boundaries_with_hospitals.head(5)[\"total_hospitals_within_30_mins_before\"])\n",
    "# .fillna(0)"
   ]
  },
  {
   "cell_type": "code",
   "execution_count": 70,
   "metadata": {},
   "outputs": [
    {
     "name": "stdout",
     "output_type": "stream",
     "text": [
      "0    5350128.04\n",
      "1    5350363.06\n",
      "2    5350363.07\n",
      "3    5350378.23\n",
      "4    5350378.24\n",
      "Name: CTUID, dtype: float64\n",
      "0    3.0\n",
      "1    2.0\n",
      "2    2.0\n",
      "3    0.0\n",
      "4    0.0\n",
      "Name: total_hospitals_within_30_mins_before, dtype: float64\n",
      "0    5.0\n",
      "1    4.0\n",
      "2    3.0\n",
      "3    0.0\n",
      "4    0.0\n",
      "Name: total_hospitals_within_30_mins_after, dtype: float64\n"
     ]
    }
   ],
   "source": [
    "import random\n",
    "geojson_path = '../results/boundaries_centroid_combined_data_with_hospital.geojson'\n",
    "gdf = gpd.read_file(geojson_path)\n",
    "\n",
    "after_total_destinations = total_destinations_df.copy()\n",
    "after_total_destinations[\"total_hospitals_within_30_mins\"]=total_destinations_df[\"total_hospitals_within_30_mins\"] + after_total_destinations.apply(lambda row: random.randint(1, 3), axis=1)\n",
    "pdf = after_total_destinations\n",
    "# Define the new column names\n",
    "new_column_names = {\n",
    "    'CTUID': 'CTUID',\n",
    "    'total_hospitals_within_30_mins': 'total_hospitals_within_30_mins_after'\n",
    "}\n",
    "\n",
    "# Merge the GeoDataFrame with the DataFrame and rename columns\n",
    "output_geojson_path = '../results/boundaries_centroid_combined_data_with_hospital_before_after_diff.geojson'\n",
    "combined_boundaries_with_hospitals = merge_gdf_with_df(gdf, pdf, 'CTUID', new_column_names, save_path=output_geojson_path)\n",
    "\n",
    "# Print the updated GeoDataFrame\n",
    "print(combined_boundaries_with_hospitals.head(5)[\"CTUID\"])\n",
    "print(combined_boundaries_with_hospitals.head(5)[\"total_hospitals_within_30_mins_before\"])\n",
    "print(combined_boundaries_with_hospitals.head(5)[\"total_hospitals_within_30_mins_after\"])"
   ]
  },
  {
   "cell_type": "code",
   "execution_count": 71,
   "metadata": {},
   "outputs": [
    {
     "name": "stdout",
     "output_type": "stream",
     "text": [
      "0    5350128.04\n",
      "1    5350363.06\n",
      "2    5350363.07\n",
      "3    5350378.23\n",
      "4    5350378.24\n",
      "Name: CTUID, dtype: float64\n",
      "0    3.0\n",
      "1    2.0\n",
      "2    2.0\n",
      "3    0.0\n",
      "4    0.0\n",
      "Name: total_hospitals_within_30_mins_before, dtype: float64\n",
      "0    2.0\n",
      "1    2.0\n",
      "2    1.0\n",
      "3    0.0\n",
      "4    0.0\n",
      "Name: total_hospitals_within_30_mins_diff, dtype: float64\n"
     ]
    }
   ],
   "source": [
    "import random\n",
    "geojson_path = '../results/boundaries_centroid_combined_data_with_hospital_before_after_diff.geojson'\n",
    "gdf = gpd.read_file(geojson_path)\n",
    "\n",
    "diff_total_destinations = after_total_destinations.copy()\n",
    "diff_total_destinations[\"total_hospitals_within_30_mins\"]=after_total_destinations[\"total_hospitals_within_30_mins\"] - total_destinations_df[\"total_hospitals_within_30_mins\"]\n",
    "pdf = diff_total_destinations\n",
    "# Define the new column names\n",
    "new_column_names = {\n",
    "    'CTUID': 'CTUID',\n",
    "    'total_hospitals_within_30_mins': 'total_hospitals_within_30_mins_diff'\n",
    "}\n",
    "\n",
    "# Merge the GeoDataFrame with the DataFrame and rename columns\n",
    "output_geojson_path = '../results/boundaries_centroid_combined_data_with_hospital_before_after_diff.geojson'\n",
    "combined_boundaries_with_hospitals = merge_gdf_with_df(gdf, pdf, 'CTUID', new_column_names, save_path=output_geojson_path)\n",
    "\n",
    "# Print the updated GeoDataFrame\n",
    "print(combined_boundaries_with_hospitals.head(5)[\"CTUID\"])\n",
    "print(combined_boundaries_with_hospitals.head(5)[\"total_hospitals_within_30_mins_before\"])\n",
    "print(combined_boundaries_with_hospitals.head(5)[\"total_hospitals_within_30_mins_diff\"])"
   ]
  },
  {
   "cell_type": "code",
   "execution_count": 72,
   "metadata": {},
   "outputs": [
    {
     "name": "stdout",
     "output_type": "stream",
     "text": [
      "GeoJSON data has been successfully converted to CSV and saved to ../results/boundaries_centroid_combined_data_with_hospital_before_after_diff.csv\n"
     ]
    }
   ],
   "source": [
    "# Convert the GeoDataFrame to a CSV file\n",
    "csv_output_path = '../results/boundaries_centroid_combined_data_with_hospital_before_after_diff.csv'\n",
    "combined_boundaries_with_hospitals.to_csv(csv_output_path, index=False)\n",
    "\n",
    "# Print a message to confirm the conversion\n",
    "print(f\"GeoJSON data has been successfully converted to CSV and saved to {csv_output_path}\")"
   ]
  }
 ],
 "metadata": {
  "kernelspec": {
   "display_name": "Python 3",
   "language": "python",
   "name": "python3"
  },
  "language_info": {
   "codemirror_mode": {
    "name": "ipython",
    "version": 3
   },
   "file_extension": ".py",
   "mimetype": "text/x-python",
   "name": "python",
   "nbconvert_exporter": "python",
   "pygments_lexer": "ipython3",
   "version": "3.9.13"
  }
 },
 "nbformat": 4,
 "nbformat_minor": 2
}
