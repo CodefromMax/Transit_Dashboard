{
 "cells": [
  {
   "cell_type": "markdown",
   "metadata": {},
   "source": [
    "Remove line 2 GTFS data"
   ]
  },
  {
   "cell_type": "code",
   "execution_count": 2,
   "metadata": {},
   "outputs": [],
   "source": [
    "import os\n",
    "import sys\n",
    "parent_dir = os.path.abspath(os.path.join('../..'))\n",
    "sys.path.append(parent_dir)\n"
   ]
  },
  {
   "cell_type": "code",
   "execution_count": null,
   "metadata": {},
   "outputs": [],
   "source": [
    "# old_GTFS_path = \"/Users/max/Desktop/Transit_Dashboard/data/GTFS_data/extracted/2024-10-22_testing\""
   ]
  },
  {
   "cell_type": "code",
   "execution_count": 1,
   "metadata": {},
   "outputs": [],
   "source": [
    "import pandas as pd\n",
    "import os\n",
    "import sys\n",
    "\n",
    "# Add the parent directory to the Python path\n",
    "parent_dir = os.path.abspath(os.path.join('..'))\n",
    "sys.path.append(parent_dir)\n",
    "# from travel_time_matrix import travel_time_matrix\n",
    "from travel_time_matrix.TravelTimeCalculation import TravelTimeCalculation\n",
    "parent_dir = os.path.abspath(os.path.join('../..'))\n",
    "sys.path.append(parent_dir)\n",
    "from data import data"
   ]
  },
  {
   "cell_type": "code",
   "execution_count": 6,
   "metadata": {},
   "outputs": [
    {
     "name": "stdout",
     "output_type": "stream",
     "text": [
      "Transport network built in 54.19 seconds.\n"
     ]
    }
   ],
   "source": [
    "OSM_path = \"/Users/max/Desktop/Transit_Dashboard/data/OSM_data/Toronto.osm.pbf\" #\"../../data/OSM_data/Toronto.osm.pbf\"\n",
    "Before_GTFS_path = \"../../../data/GTFS_data/raw/latest_feed_version_2024-10-22.zip\"\n",
    "\n",
    "Before_travel_calculator = TravelTimeCalculation(OSM_path, Before_GTFS_path)  # Use the correct class\n",
    "Before_travel_calculator.build_transport_network()"
   ]
  },
  {
   "cell_type": "code",
   "execution_count": 8,
   "metadata": {},
   "outputs": [
    {
     "name": "stderr",
     "output_type": "stream",
     "text": [
      "Exception ignored in: <function TransportNetwork.__del__ at 0x121b36310>\n",
      "Traceback (most recent call last):\n",
      "  File \"/Library/Frameworks/Python.framework/Versions/3.9/lib/python3.9/site-packages/r5py/r5/transport_network.py\", line 99, in __del__\n",
      "    self.osm_file.close()\n",
      "AttributeError: 'TransportNetwork' object has no attribute 'osm_file'\n"
     ]
    },
    {
     "name": "stdout",
     "output_type": "stream",
     "text": [
      "Travel time matrix computed in 169.78 seconds.\n",
      "Travel time matrix saved to ../results/TTM_CT_Job_Before.csv.\n"
     ]
    },
    {
     "data": {
      "text/html": [
       "<div>\n",
       "<style scoped>\n",
       "    .dataframe tbody tr th:only-of-type {\n",
       "        vertical-align: middle;\n",
       "    }\n",
       "\n",
       "    .dataframe tbody tr th {\n",
       "        vertical-align: top;\n",
       "    }\n",
       "\n",
       "    .dataframe thead th {\n",
       "        text-align: right;\n",
       "    }\n",
       "</style>\n",
       "<table border=\"1\" class=\"dataframe\">\n",
       "  <thead>\n",
       "    <tr style=\"text-align: right;\">\n",
       "      <th></th>\n",
       "      <th>from_id</th>\n",
       "      <th>to_id</th>\n",
       "      <th>travel_time</th>\n",
       "    </tr>\n",
       "  </thead>\n",
       "  <tbody>\n",
       "    <tr>\n",
       "      <th>0</th>\n",
       "      <td>5350128.04</td>\n",
       "      <td>Downtown Toronto</td>\n",
       "      <td>32.0</td>\n",
       "    </tr>\n",
       "    <tr>\n",
       "      <th>1</th>\n",
       "      <td>5350128.04</td>\n",
       "      <td>Etobicoke Centre</td>\n",
       "      <td>58.0</td>\n",
       "    </tr>\n",
       "    <tr>\n",
       "      <th>2</th>\n",
       "      <td>5350128.04</td>\n",
       "      <td>Yonge-Eglinton Centre</td>\n",
       "      <td>17.0</td>\n",
       "    </tr>\n",
       "    <tr>\n",
       "      <th>3</th>\n",
       "      <td>5350128.04</td>\n",
       "      <td>North York Centre</td>\n",
       "      <td>31.0</td>\n",
       "    </tr>\n",
       "    <tr>\n",
       "      <th>4</th>\n",
       "      <td>5350128.04</td>\n",
       "      <td>Scarborough Centre</td>\n",
       "      <td>77.0</td>\n",
       "    </tr>\n",
       "    <tr>\n",
       "      <th>...</th>\n",
       "      <td>...</td>\n",
       "      <td>...</td>\n",
       "      <td>...</td>\n",
       "    </tr>\n",
       "    <tr>\n",
       "      <th>2910</th>\n",
       "      <td>5350017.02</td>\n",
       "      <td>Downtown Toronto</td>\n",
       "      <td>29.0</td>\n",
       "    </tr>\n",
       "    <tr>\n",
       "      <th>2911</th>\n",
       "      <td>5350017.02</td>\n",
       "      <td>Etobicoke Centre</td>\n",
       "      <td>65.0</td>\n",
       "    </tr>\n",
       "    <tr>\n",
       "      <th>2912</th>\n",
       "      <td>5350017.02</td>\n",
       "      <td>Yonge-Eglinton Centre</td>\n",
       "      <td>37.0</td>\n",
       "    </tr>\n",
       "    <tr>\n",
       "      <th>2913</th>\n",
       "      <td>5350017.02</td>\n",
       "      <td>North York Centre</td>\n",
       "      <td>52.0</td>\n",
       "    </tr>\n",
       "    <tr>\n",
       "      <th>2914</th>\n",
       "      <td>5350017.02</td>\n",
       "      <td>Scarborough Centre</td>\n",
       "      <td>84.0</td>\n",
       "    </tr>\n",
       "  </tbody>\n",
       "</table>\n",
       "<p>2915 rows × 3 columns</p>\n",
       "</div>"
      ],
      "text/plain": [
       "         from_id                  to_id  travel_time\n",
       "0     5350128.04       Downtown Toronto         32.0\n",
       "1     5350128.04       Etobicoke Centre         58.0\n",
       "2     5350128.04  Yonge-Eglinton Centre         17.0\n",
       "3     5350128.04      North York Centre         31.0\n",
       "4     5350128.04     Scarborough Centre         77.0\n",
       "...          ...                    ...          ...\n",
       "2910  5350017.02       Downtown Toronto         29.0\n",
       "2911  5350017.02       Etobicoke Centre         65.0\n",
       "2912  5350017.02  Yonge-Eglinton Centre         37.0\n",
       "2913  5350017.02      North York Centre         52.0\n",
       "2914  5350017.02     Scarborough Centre         84.0\n",
       "\n",
       "[2915 rows x 3 columns]"
      ]
     },
     "execution_count": 8,
     "metadata": {},
     "output_type": "execute_result"
    }
   ],
   "source": [
    "# Census tract to Census tract Access for available job access\n",
    "Before_travel_calculator.compute_travel_time_matrix(\n",
    "    origins_path = \"../../../data/census_tract_data/toronto_ct_centroids1.geojson\", \n",
    "    destinations_path = \"../../../data/key_destination_data/Work_Locations_4326.geojson\", \n",
    "    output_path = \"../results/TTM_CT_Job_Before.csv\", \n",
    "    origin_id_col='CTUID', destination_id_col='Address_ID',\n",
    "    origin_is_point=True, destination_is_point=True,  # If it is not a point, the centroid of the polygon will be used\n",
    ")"
   ]
  },
  {
   "cell_type": "code",
   "execution_count": 9,
   "metadata": {},
   "outputs": [
    {
     "name": "stdout",
     "output_type": "stream",
     "text": [
      "Transport network built in 75.72 seconds.\n"
     ]
    }
   ],
   "source": [
    "OSM_path = \"/Users/max/Desktop/Transit_Dashboard/data/OSM_data/Toronto.osm.pbf\" #\"../../data/OSM_data/Toronto.osm.pbf\"\n",
    "After_GTFS_path = \"/Users/max/Desktop/Transit_Dashboard/data/GTFS_data/gtfs_output_v10.zip\"  #\"../../data/GTFS_data/raw/latest_feed_version_2024-10-22.zip\"\n",
    "\n",
    "After_travel_calculator = TravelTimeCalculation(OSM_path, After_GTFS_path)  # Use the correct class\n",
    "After_travel_calculator.build_transport_network()\n"
   ]
  },
  {
   "cell_type": "code",
   "execution_count": 10,
   "metadata": {},
   "outputs": [
    {
     "name": "stdout",
     "output_type": "stream",
     "text": [
      "Travel time matrix computed in 173.77 seconds.\n",
      "Travel time matrix saved to ../results/TTM_CT_Job_After.csv.\n"
     ]
    },
    {
     "data": {
      "text/html": [
       "<div>\n",
       "<style scoped>\n",
       "    .dataframe tbody tr th:only-of-type {\n",
       "        vertical-align: middle;\n",
       "    }\n",
       "\n",
       "    .dataframe tbody tr th {\n",
       "        vertical-align: top;\n",
       "    }\n",
       "\n",
       "    .dataframe thead th {\n",
       "        text-align: right;\n",
       "    }\n",
       "</style>\n",
       "<table border=\"1\" class=\"dataframe\">\n",
       "  <thead>\n",
       "    <tr style=\"text-align: right;\">\n",
       "      <th></th>\n",
       "      <th>from_id</th>\n",
       "      <th>to_id</th>\n",
       "      <th>travel_time</th>\n",
       "    </tr>\n",
       "  </thead>\n",
       "  <tbody>\n",
       "    <tr>\n",
       "      <th>0</th>\n",
       "      <td>5350128.04</td>\n",
       "      <td>Downtown Toronto</td>\n",
       "      <td>32.0</td>\n",
       "    </tr>\n",
       "    <tr>\n",
       "      <th>1</th>\n",
       "      <td>5350128.04</td>\n",
       "      <td>Etobicoke Centre</td>\n",
       "      <td>58.0</td>\n",
       "    </tr>\n",
       "    <tr>\n",
       "      <th>2</th>\n",
       "      <td>5350128.04</td>\n",
       "      <td>Yonge-Eglinton Centre</td>\n",
       "      <td>17.0</td>\n",
       "    </tr>\n",
       "    <tr>\n",
       "      <th>3</th>\n",
       "      <td>5350128.04</td>\n",
       "      <td>North York Centre</td>\n",
       "      <td>31.0</td>\n",
       "    </tr>\n",
       "    <tr>\n",
       "      <th>4</th>\n",
       "      <td>5350128.04</td>\n",
       "      <td>Scarborough Centre</td>\n",
       "      <td>77.0</td>\n",
       "    </tr>\n",
       "    <tr>\n",
       "      <th>...</th>\n",
       "      <td>...</td>\n",
       "      <td>...</td>\n",
       "      <td>...</td>\n",
       "    </tr>\n",
       "    <tr>\n",
       "      <th>2910</th>\n",
       "      <td>5350017.02</td>\n",
       "      <td>Downtown Toronto</td>\n",
       "      <td>25.0</td>\n",
       "    </tr>\n",
       "    <tr>\n",
       "      <th>2911</th>\n",
       "      <td>5350017.02</td>\n",
       "      <td>Etobicoke Centre</td>\n",
       "      <td>62.0</td>\n",
       "    </tr>\n",
       "    <tr>\n",
       "      <th>2912</th>\n",
       "      <td>5350017.02</td>\n",
       "      <td>Yonge-Eglinton Centre</td>\n",
       "      <td>37.0</td>\n",
       "    </tr>\n",
       "    <tr>\n",
       "      <th>2913</th>\n",
       "      <td>5350017.02</td>\n",
       "      <td>North York Centre</td>\n",
       "      <td>52.0</td>\n",
       "    </tr>\n",
       "    <tr>\n",
       "      <th>2914</th>\n",
       "      <td>5350017.02</td>\n",
       "      <td>Scarborough Centre</td>\n",
       "      <td>76.0</td>\n",
       "    </tr>\n",
       "  </tbody>\n",
       "</table>\n",
       "<p>2915 rows × 3 columns</p>\n",
       "</div>"
      ],
      "text/plain": [
       "         from_id                  to_id  travel_time\n",
       "0     5350128.04       Downtown Toronto         32.0\n",
       "1     5350128.04       Etobicoke Centre         58.0\n",
       "2     5350128.04  Yonge-Eglinton Centre         17.0\n",
       "3     5350128.04      North York Centre         31.0\n",
       "4     5350128.04     Scarborough Centre         77.0\n",
       "...          ...                    ...          ...\n",
       "2910  5350017.02       Downtown Toronto         25.0\n",
       "2911  5350017.02       Etobicoke Centre         62.0\n",
       "2912  5350017.02  Yonge-Eglinton Centre         37.0\n",
       "2913  5350017.02      North York Centre         52.0\n",
       "2914  5350017.02     Scarborough Centre         76.0\n",
       "\n",
       "[2915 rows x 3 columns]"
      ]
     },
     "execution_count": 10,
     "metadata": {},
     "output_type": "execute_result"
    }
   ],
   "source": [
    "# Census tract to Census tract Access for available job access\n",
    "After_travel_calculator.compute_travel_time_matrix(\n",
    "    origins_path = \"../../../data/census_tract_data/toronto_ct_centroids1.geojson\", \n",
    "    destinations_path = \"../../../data/key_destination_data/Work_Locations_4326.geojson\", \n",
    "    output_path = \"../results/TTM_CT_Job_After.csv\", \n",
    "    origin_id_col='CTUID', destination_id_col='Address_ID',\n",
    "    origin_is_point=True, destination_is_point=True,    # If it is not a point, the centroid of the polygon will be used\n",
    ")"
   ]
  },
  {
   "cell_type": "code",
   "execution_count": null,
   "metadata": {},
   "outputs": [],
   "source": []
  },
  {
   "cell_type": "code",
   "execution_count": null,
   "metadata": {},
   "outputs": [],
   "source": [
    "# def format_ctuid(value):\n",
    "#     value = str(value)\n",
    "#     parts = value.split('.')\n",
    "#     if len(parts) == 1:\n",
    "#         return f\"535{int(parts[0]):04d}.00\"\n",
    "#     elif parts[1] == '0':\n",
    "#         return f\"535{int(parts[0]):04d}.00\"\n",
    "#     elif len(parts) == 2:\n",
    "#         return f\"535{int(parts[0]):04d}.{parts[1]}\""
   ]
  },
  {
   "cell_type": "code",
   "execution_count": null,
   "metadata": {},
   "outputs": [],
   "source": [
    "# employment_data = pd.read_csv(\"../../../draft/Employment_data.csv\").fillna(0)\n",
    "# employment_data['CTUID'].apply(format_ctuid).to_csv(\"../../../draft/Employment_data.csv\", index=False)"
   ]
  },
  {
   "cell_type": "code",
   "execution_count": null,
   "metadata": {},
   "outputs": [],
   "source": [
    "# employment_data = pd.read_csv(\"../../../draft/Employment_data.csv\").fillna(0)\n",
    "# employment_data['CTUID'] = employment_data['CTUID'].apply(format_ctuid)\n",
    "# employment_data.to_csv(\"../../../draft/Employment_data.csv\", index=False)"
   ]
  }
 ],
 "metadata": {
  "kernelspec": {
   "display_name": "Python 3",
   "language": "python",
   "name": "python3"
  },
  "language_info": {
   "codemirror_mode": {
    "name": "ipython",
    "version": 3
   },
   "file_extension": ".py",
   "mimetype": "text/x-python",
   "name": "python",
   "nbconvert_exporter": "python",
   "pygments_lexer": "ipython3",
   "version": "3.9.13"
  }
 },
 "nbformat": 4,
 "nbformat_minor": 2
}
