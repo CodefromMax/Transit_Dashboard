{
 "cells": [
  {
   "cell_type": "code",
   "execution_count": 5,
   "metadata": {},
   "outputs": [],
   "source": [
    "import datetime\n",
    "import geopandas as gpd\n",
    "import pandas as pd\n",
    "import datetime\n",
    "import time \n",
    "import r5py\n",
    "import os\n",
    "from TravelTimeCalculation import TravelTimeCalculation # \n"
   ]
  },
  {
   "cell_type": "code",
   "execution_count": null,
   "metadata": {},
   "outputs": [],
   "source": [
    "\n",
    "# Ensure the file paths are correct\n",
    "# tried ../ doesn't work\n",
    "OSM_path = \"/Users/max/Desktop/Transit_Dashboard/data/OSM_data/Toronto.osm.pbf\" #\"../../data/OSM_data/Toronto.osm.pbf\"\n",
    "GTFS_path = \"/Users/max/Desktop/Transit_Dashboard/data/GTFS_data/raw/latest_feed_version_2024-10-22.zip\"  #\"../../data/GTFS_data/raw/latest_feed_version_2024-10-22.zip\"\n",
    "\n",
    "travel_calculator = TravelTimeCalculation(OSM_path, GTFS_path)  # Use the correct class\n",
    "travel_calculator.build_transport_network()\n",
    "\n"
   ]
  },
  {
   "cell_type": "code",
   "execution_count": null,
   "metadata": {},
   "outputs": [
    {
     "name": "stdout",
     "output_type": "stream",
     "text": [
      "Travel time matrix computed in 177.50 seconds.\n",
      "Travel time matrix saved to ../results/TTM_CT_hospitals.csv.\n"
     ]
    },
    {
     "data": {
      "text/html": [
       "<div>\n",
       "<style scoped>\n",
       "    .dataframe tbody tr th:only-of-type {\n",
       "        vertical-align: middle;\n",
       "    }\n",
       "\n",
       "    .dataframe tbody tr th {\n",
       "        vertical-align: top;\n",
       "    }\n",
       "\n",
       "    .dataframe thead th {\n",
       "        text-align: right;\n",
       "    }\n",
       "</style>\n",
       "<table border=\"1\" class=\"dataframe\">\n",
       "  <thead>\n",
       "    <tr style=\"text-align: right;\">\n",
       "      <th></th>\n",
       "      <th>from_id</th>\n",
       "      <th>to_id</th>\n",
       "      <th>travel_time</th>\n",
       "    </tr>\n",
       "  </thead>\n",
       "  <tbody>\n",
       "    <tr>\n",
       "      <th>0</th>\n",
       "      <td>5350128.04</td>\n",
       "      <td>7792696</td>\n",
       "      <td>32.0</td>\n",
       "    </tr>\n",
       "    <tr>\n",
       "      <th>1</th>\n",
       "      <td>5350128.04</td>\n",
       "      <td>9638452</td>\n",
       "      <td>76.0</td>\n",
       "    </tr>\n",
       "    <tr>\n",
       "      <th>2</th>\n",
       "      <td>5350128.04</td>\n",
       "      <td>54248</td>\n",
       "      <td>76.0</td>\n",
       "    </tr>\n",
       "    <tr>\n",
       "      <th>3</th>\n",
       "      <td>5350128.04</td>\n",
       "      <td>6362828</td>\n",
       "      <td>81.0</td>\n",
       "    </tr>\n",
       "    <tr>\n",
       "      <th>4</th>\n",
       "      <td>5350128.04</td>\n",
       "      <td>9035631</td>\n",
       "      <td>74.0</td>\n",
       "    </tr>\n",
       "    <tr>\n",
       "      <th>...</th>\n",
       "      <td>...</td>\n",
       "      <td>...</td>\n",
       "      <td>...</td>\n",
       "    </tr>\n",
       "    <tr>\n",
       "      <th>58295</th>\n",
       "      <td>5350017.02</td>\n",
       "      <td>14120064</td>\n",
       "      <td>NaN</td>\n",
       "    </tr>\n",
       "    <tr>\n",
       "      <th>58296</th>\n",
       "      <td>5350017.02</td>\n",
       "      <td>3256200</td>\n",
       "      <td>NaN</td>\n",
       "    </tr>\n",
       "    <tr>\n",
       "      <th>58297</th>\n",
       "      <td>5350017.02</td>\n",
       "      <td>9942216</td>\n",
       "      <td>NaN</td>\n",
       "    </tr>\n",
       "    <tr>\n",
       "      <th>58298</th>\n",
       "      <td>5350017.02</td>\n",
       "      <td>3232727</td>\n",
       "      <td>NaN</td>\n",
       "    </tr>\n",
       "    <tr>\n",
       "      <th>58299</th>\n",
       "      <td>5350017.02</td>\n",
       "      <td>9942219</td>\n",
       "      <td>41.0</td>\n",
       "    </tr>\n",
       "  </tbody>\n",
       "</table>\n",
       "<p>58300 rows × 3 columns</p>\n",
       "</div>"
      ],
      "text/plain": [
       "          from_id     to_id  travel_time\n",
       "0      5350128.04   7792696         32.0\n",
       "1      5350128.04   9638452         76.0\n",
       "2      5350128.04     54248         76.0\n",
       "3      5350128.04   6362828         81.0\n",
       "4      5350128.04   9035631         74.0\n",
       "...           ...       ...          ...\n",
       "58295  5350017.02  14120064          NaN\n",
       "58296  5350017.02   3256200          NaN\n",
       "58297  5350017.02   9942216          NaN\n",
       "58298  5350017.02   3232727          NaN\n",
       "58299  5350017.02   9942219         41.0\n",
       "\n",
       "[58300 rows x 3 columns]"
      ]
     },
     "execution_count": 9,
     "metadata": {},
     "output_type": "execute_result"
    }
   ],
   "source": [
    "travel_calculator.compute_travel_time_matrix(\n",
    "    origins_path = \"../../../data/census_tract_data/toronto_ct_centroids1.geojson\", \n",
    "    destinations_path = \"../../../data/key_destination_data/Healthcare.geojson\", \n",
    "    output_path = \"../results/TTM_CT_hospitals.csv\", \n",
    "    origin_id_col='CTUID', destination_id_col='ADDRESS_POINT_ID',\n",
    "    origin_is_point=True, destination_is_point=True,  # If it is not a point, the centroid of the polygon will be used\n",
    ")"
   ]
  },
  {
   "cell_type": "code",
   "execution_count": null,
   "metadata": {},
   "outputs": [],
   "source": [
    "\n",
    "# Census tract vs Census tract for job access\n",
    "travel_calculator.compute_travel_time_matrix(\n",
    "    origins_path = \"../../../data/census_tract_data/toronto_ct_centroids1.geojson\", \n",
    "    destinations_path = \"../../../data/census_tract_data/toronto_ct_centroids1.geojson\", \n",
    "    output_path = \"../results/TTM_CT_CT.csv\", \n",
    "    origin_id_col='CTUID', destination_id_col='CTUID',\n",
    "    origin_is_point=True, destination_is_point=True,  # If it is not a point, the centroid of the polygon will be used\n",
    ")\n",
    "\n",
    "\n",
    "# Note # ../../../data/census_tract_data/toronto_ct_boundaries.geojson\n",
    "# change boundaries --> centroids doesn't work\n",
    "# Same census tract results (from census 1, to census 1, 0 ) is handled by the filter_destination function"
   ]
  },
  {
   "cell_type": "code",
   "execution_count": 19,
   "metadata": {},
   "outputs": [
    {
     "name": "stdout",
     "output_type": "stream",
     "text": [
      "Filtered results saved to ../results/TTM_CT_hospitals.csv.\n"
     ]
    }
   ],
   "source": [
    "# This function should be added to the metric calculation class during the travel time matrix processing stage\n",
    "\n",
    "# Get the hospitals within 10, 20, 30 minutes of travel time\n",
    "\n",
    "thresholds = [10, 20, 30]\n",
    "travel_calculator.filter_destinations(\n",
    "        travel_time_matrix_path= \"../results/TTM_CT_hospitals.csv\",\n",
    "        output_path= \"../results/TTM_CT_hospitals.csv\",\n",
    "        top_n=5\n",
    "    )"
   ]
  },
  {
   "cell_type": "code",
   "execution_count": 4,
   "metadata": {},
   "outputs": [
    {
     "name": "stdout",
     "output_type": "stream",
     "text": [
      "Generated ../results/TTM_CT_hospitals_threshold_10.csv\n",
      "Generated ../results/TTM_CT_hospitals_threshold_20.csv\n",
      "Generated ../results/TTM_CT_hospitals_threshold_30.csv\n"
     ]
    }
   ],
   "source": [
    "travel_calculator = TravelTimeCalculation() \n",
    "\n",
    "thresholds = [10, 20, 30]\n",
    "travel_calculator.filter_destinations(\n",
    "        travel_time_matrix_path= \"../results/TTM_CT_hospitals.csv\",\n",
    "        output_path= \"../results/TTM_CT_hospitals.csv\",\n",
    "        threshold = [10, 20, 30]\n",
    "    )"
   ]
  }
 ],
 "metadata": {
  "kernelspec": {
   "display_name": "Python 3",
   "language": "python",
   "name": "python3"
  },
  "language_info": {
   "codemirror_mode": {
    "name": "ipython",
    "version": 3
   },
   "file_extension": ".py",
   "mimetype": "text/x-python",
   "name": "python",
   "nbconvert_exporter": "python",
   "pygments_lexer": "ipython3",
   "version": "3.9.13"
  }
 },
 "nbformat": 4,
 "nbformat_minor": 2
}
