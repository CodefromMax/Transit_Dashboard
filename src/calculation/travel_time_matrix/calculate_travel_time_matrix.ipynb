{
 "cells": [
  {
   "cell_type": "code",
   "execution_count": null,
   "metadata": {},
   "outputs": [],
   "source": [
    "# !pip install r5py"
   ]
  },
  {
   "cell_type": "code",
   "execution_count": null,
   "metadata": {},
   "outputs": [],
   "source": [
    "# !pip install pyrosm\n",
    "# !pip install folium\n",
    "# !pip install geojson\n"
   ]
  },
  {
   "cell_type": "code",
   "execution_count": 8,
   "metadata": {},
   "outputs": [],
   "source": [
    "import geopandas as gpd\n",
    "import pandas as pd\n",
    "\n",
    "import datetime\n",
    "import time \n",
    "import r5py\n",
    "import os"
   ]
  },
  {
   "cell_type": "markdown",
   "metadata": {},
   "source": [
    "### 1. Building transportation network using OSM and GTFS data"
   ]
  },
  {
   "cell_type": "code",
   "execution_count": 10,
   "metadata": {},
   "outputs": [
    {
     "name": "stdout",
     "output_type": "stream",
     "text": [
      "Transportion network building time 87.78173804283142 seconds.\n"
     ]
    }
   ],
   "source": [
    "\n",
    "# Ensure the file paths are correct\n",
    "OSM_path = \"/Users/max/Desktop/Transit_Dashboard/data/OSM_data/Toronto.osm.pbf\" #\"../../data/OSM_data/Toronto.osm.pbf\"\n",
    "GTFS_path = \"/Users/max/Desktop/Transit_Dashboard/data/GTFS_data/raw/latest_feed_version_2024-10-22.zip\"  #\"../../data/GTFS_data/raw/latest_feed_version_2024-10-22.zip\"\n",
    "\n",
    "\n",
    "# Make the R5 transport network using OSM and GTFS \n",
    "network_start = time.time()\n",
    "transport_network = r5py.TransportNetwork(OSM_path, [GTFS_path])\n",
    "network_total_time = time.time()-network_start\n",
    "print(\"Transportion network building time\", network_total_time, \"seconds.\" )\n",
    "\n",
    "transport_modes = [\n",
    "    r5py.TransportMode.TRANSIT,\n",
    "    r5py.TransportMode.WALK,\n",
    "]"
   ]
  },
  {
   "cell_type": "markdown",
   "metadata": {},
   "source": [
    "### 2. Load Origins and Destinations for travel time calculation."
   ]
  },
  {
   "cell_type": "code",
   "execution_count": 13,
   "metadata": {},
   "outputs": [
    {
     "name": "stdout",
     "output_type": "stream",
     "text": [
      "Running time: 59.479373931884766 seconds\n"
     ]
    }
   ],
   "source": [
    "import geopandas as gpd\n",
    "import time\n",
    "import r5py\n",
    "import datetime\n",
    "\n",
    "def compute_travel_time_matrix(origins_file, destinations_file, transport_network, output_file, origin_id_col='', destination_id_col=''):\n",
    "    # Load the GeoJSON files\n",
    "    origins = gpd.read_file(origins_file)\n",
    "    destinations = gpd.read_file(destinations_file)\n",
    "    \n",
    "    # Check if the origin ID column exists, if not, raise an error or rename it\n",
    "    if \"id\" not in origins.columns:\n",
    "        if origin_id_col not in origins.columns:\n",
    "            raise ValueError(f\"Origin ID column '{origin_id_col}' not found in the origins file.\")\n",
    "        origins['id'] = origins[origin_id_col]\n",
    "    \n",
    "    # Check if the destination ID column exists, if not, raise an error or rename it\n",
    "    if \"id\" not in destinations.columns:\n",
    "        if destination_id_col not in destinations.columns:\n",
    "            raise ValueError(f\"Destination ID column '{destination_id_col}' not found in the destinations file.\")\n",
    "        destinations['id'] = destinations[destination_id_col]\n",
    "    \n",
    "    # Start timer\n",
    "    start = time.time()\n",
    "    \n",
    "    # Compute travel time matrix\n",
    "    travel_time_matrix = r5py.TravelTimeMatrixComputer(\n",
    "        transport_network,\n",
    "        origins=origins,\n",
    "        destinations=destinations,\n",
    "        transport_modes=[r5py.TransportMode.TRANSIT],\n",
    "        # Optional: specify the departure time if needed\n",
    "        # departure=datetime.datetime(2019, 5, 13, 14, 0, 0),\n",
    "    ).compute_travel_times()\n",
    "    \n",
    "    # End timer\n",
    "    end = time.time()\n",
    "    running_time = end - start\n",
    "    print(f\"Running time: {running_time} seconds\")\n",
    "    \n",
    "    # Save the results to a CSV file\n",
    "    travel_time_matrix.to_csv(output_file)\n",
    "\n",
    "# Census tract to census tract\n",
    "compute_travel_time_matrix(\n",
    "    origins_file=\"/Users/max/Desktop/Transit_Dashboard/data/census_tract_data/toronto_ct_centroids1.geojson\",\n",
    "    destinations_file=\"/Users/max/Desktop/Transit_Dashboard/data/census_tract_data/toronto_ct_centroids1.geojson\",\n",
    "    transport_network=transport_network,\n",
    "    output_file=\"../results/travel_time_matrix_census_tract.csv\",\n",
    "    origin_id_col='CTUID',  # Specify the correct column name for origin ID if it's different\n",
    "    destination_id_col='CTUID'  # Specify the correct column name for destination ID if it's different\n",
    ")\n"
   ]
  },
  {
   "cell_type": "code",
   "execution_count": 15,
   "metadata": {},
   "outputs": [
    {
     "name": "stderr",
     "output_type": "stream",
     "text": [
      "Exception ignored in: <function TransportNetwork.__del__ at 0x10d62ad30>\n",
      "Traceback (most recent call last):\n",
      "  File \"/Library/Frameworks/Python.framework/Versions/3.9/lib/python3.9/site-packages/r5py/r5/transport_network.py\", line 99, in __del__\n",
      "    self.osm_file.close()\n",
      "TypeError: No matching overloads found for com.conveyal.osmlib.OSM.close(), options are:\n",
      "\tpublic void com.conveyal.osmlib.OSM.close()\n",
      "\n"
     ]
    },
    {
     "name": "stdout",
     "output_type": "stream",
     "text": [
      "Running time: 295.32969999313354 seconds\n"
     ]
    }
   ],
   "source": [
    "#  dissemination area to healthcare facilities \n",
    "compute_travel_time_matrix(\n",
    "    origins_file=\"/Users/max/Desktop/Transit_Dashboard/data/census_tract_data/toronto_da_centroids.geojson\",\n",
    "    destinations_file=\"/Users/max/Desktop/Transit_Dashboard/data/key_destination_data/Healthcare.geojson\",\n",
    "    transport_network=transport_network,\n",
    "    output_file=\"../results/travel_time_matrix_hospitals.csv\",\n",
    "    origin_id_col='DAUID',  # Specify the correct column name for origin ID if it's different\n",
    "    destination_id_col='ADDRESS_POINT_ID'  # Specify the correct column name for destination ID if it's different\n",
    ")"
   ]
  },
  {
   "cell_type": "code",
   "execution_count": 12,
   "metadata": {},
   "outputs": [
    {
     "data": {
      "text/html": [
       "<div>\n",
       "<style scoped>\n",
       "    .dataframe tbody tr th:only-of-type {\n",
       "        vertical-align: middle;\n",
       "    }\n",
       "\n",
       "    .dataframe tbody tr th {\n",
       "        vertical-align: top;\n",
       "    }\n",
       "\n",
       "    .dataframe thead th {\n",
       "        text-align: right;\n",
       "    }\n",
       "</style>\n",
       "<table border=\"1\" class=\"dataframe\">\n",
       "  <thead>\n",
       "    <tr style=\"text-align: right;\">\n",
       "      <th></th>\n",
       "      <th>Unnamed: 0</th>\n",
       "      <th>from_id</th>\n",
       "      <th>to_id</th>\n",
       "      <th>travel_time</th>\n",
       "    </tr>\n",
       "  </thead>\n",
       "  <tbody>\n",
       "    <tr>\n",
       "      <th>0</th>\n",
       "      <td>0</td>\n",
       "      <td>5350128.04</td>\n",
       "      <td>5350128.04</td>\n",
       "      <td>0.0</td>\n",
       "    </tr>\n",
       "    <tr>\n",
       "      <th>1</th>\n",
       "      <td>1</td>\n",
       "      <td>5350128.04</td>\n",
       "      <td>5350363.06</td>\n",
       "      <td>81.0</td>\n",
       "    </tr>\n",
       "    <tr>\n",
       "      <th>2</th>\n",
       "      <td>2</td>\n",
       "      <td>5350128.04</td>\n",
       "      <td>5350363.07</td>\n",
       "      <td>90.0</td>\n",
       "    </tr>\n",
       "    <tr>\n",
       "      <th>3</th>\n",
       "      <td>3</td>\n",
       "      <td>5350128.04</td>\n",
       "      <td>5350378.23</td>\n",
       "      <td>90.0</td>\n",
       "    </tr>\n",
       "    <tr>\n",
       "      <th>4</th>\n",
       "      <td>4</td>\n",
       "      <td>5350128.04</td>\n",
       "      <td>5350378.24</td>\n",
       "      <td>94.0</td>\n",
       "    </tr>\n",
       "  </tbody>\n",
       "</table>\n",
       "</div>"
      ],
      "text/plain": [
       "   Unnamed: 0     from_id       to_id  travel_time\n",
       "0           0  5350128.04  5350128.04          0.0\n",
       "1           1  5350128.04  5350363.06         81.0\n",
       "2           2  5350128.04  5350363.07         90.0\n",
       "3           3  5350128.04  5350378.23         90.0\n",
       "4           4  5350128.04  5350378.24         94.0"
      ]
     },
     "metadata": {},
     "output_type": "display_data"
    }
   ],
   "source": [
    "load_travel_time_matrix_census_tract = pd.read_csv(\"../results/travel_time_matrix_census_tract.csv\")\n",
    "display(load_travel_time_matrix_census_tract.head())"
   ]
  }
 ],
 "metadata": {
  "kernelspec": {
   "display_name": "Python 3",
   "language": "python",
   "name": "python3"
  },
  "language_info": {
   "codemirror_mode": {
    "name": "ipython",
    "version": 3
   },
   "file_extension": ".py",
   "mimetype": "text/x-python",
   "name": "python",
   "nbconvert_exporter": "python",
   "pygments_lexer": "ipython3",
   "version": "3.9.13"
  }
 },
 "nbformat": 4,
 "nbformat_minor": 2
}
