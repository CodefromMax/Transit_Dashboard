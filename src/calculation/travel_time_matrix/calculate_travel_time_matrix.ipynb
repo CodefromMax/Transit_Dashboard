{
 "cells": [
  {
   "cell_type": "code",
   "execution_count": null,
   "metadata": {},
   "outputs": [],
   "source": [
    "# !pip install r5py"
   ]
  },
  {
   "cell_type": "code",
   "execution_count": null,
   "metadata": {},
   "outputs": [],
   "source": [
    "# !pip install pyrosm\n",
    "# !pip install folium\n",
    "# !pip install geojson\n"
   ]
  },
  {
   "cell_type": "code",
   "execution_count": 32,
   "metadata": {},
   "outputs": [
    {
     "name": "stdout",
     "output_type": "stream",
     "text": [
      "CPU times: user 2min 42s, sys: 6.66 s, total: 2min 49s\n",
      "Wall time: 56.1 s\n"
     ]
    }
   ],
   "source": [
    "import r5py\n",
    "import os\n",
    "\n",
    "# Ensure the file paths are correct\n",
    "OSM_path = \"/Users/max/Desktop/Transit_Dashboard/data/OSM_data/Toronto.osm.pbf\" #\"../../data/OSM_data/Toronto.osm.pbf\"\n",
    "GTFS_path = \"/Users/max/Desktop/Transit_Dashboard/data/GTFS_data/raw/latest_feed_version_2024-10-22.zip\"  #\"../../data/GTFS_data/raw/latest_feed_version_2024-10-22.zip\"\n",
    "\n",
    "\n",
    "# Make the R5 transport network from these\n",
    "%time transport_network = r5py.TransportNetwork(OSM_path, [GTFS_path])\n",
    "\n",
    "# Uncomment the transport modes\n",
    "transport_modes = [\n",
    "    r5py.TransportMode.TRANSIT,\n",
    "    r5py.TransportMode.WALK,\n",
    "]"
   ]
  },
  {
   "cell_type": "code",
   "execution_count": null,
   "metadata": {},
   "outputs": [],
   "source": [
    "import datetime\n",
    "\n",
    "travel_time_matrix = r5py.TravelTimeMatrixComputer(\n",
    "    transport_network,\n",
    "    origins=origins,\n",
    "    destinations=destinations,\n",
    "    transport_modes=[r5py.TransportMode.TRANSIT],\n",
    "    # departure=datetime.datetime(2019, 5, 13, 14, 0, 0),\n",
    ").compute_travel_times()"
   ]
  },
  {
   "cell_type": "code",
   "execution_count": 15,
   "metadata": {},
   "outputs": [],
   "source": [
    "# # pip install r5py.sampledata.sao_paulo\n",
    "# import r5py\n",
    "# import r5py.sampledata.sao_paulo\n",
    "\n",
    "# transport_network = r5py.TransportNetwork(\n",
    "#     r5py.sampledata.sao_paulo.osm_pbf,\n",
    "#     [\n",
    "#         r5py.sampledata.sao_paulo.gtfs,\n",
    "#     ]\n",
    "# )"
   ]
  }
 ],
 "metadata": {
  "kernelspec": {
   "display_name": "Python 3",
   "language": "python",
   "name": "python3"
  },
  "language_info": {
   "codemirror_mode": {
    "name": "ipython",
    "version": 3
   },
   "file_extension": ".py",
   "mimetype": "text/x-python",
   "name": "python",
   "nbconvert_exporter": "python",
   "pygments_lexer": "ipython3",
   "version": "3.9.13"
  }
 },
 "nbformat": 4,
 "nbformat_minor": 2
}
