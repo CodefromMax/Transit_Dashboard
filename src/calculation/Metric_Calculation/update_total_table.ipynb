{
 "cells": [
  {
   "cell_type": "code",
   "execution_count": 3,
   "metadata": {},
   "outputs": [
    {
     "name": "stdout",
     "output_type": "stream",
     "text": [
      "            CTUID                         Neighbourhoods Metric_Type  \\\n",
      "0      5350001.00                        South Riverdale      Social   \n",
      "1      5350001.00                        South Riverdale      Social   \n",
      "2      5350001.00                        South Riverdale      Social   \n",
      "3      5350002.00  St Lawrence-East Bayfront-The Islands      Social   \n",
      "4      5350002.00  St Lawrence-East Bayfront-The Islands      Social   \n",
      "...           ...                                    ...         ...   \n",
      "71704  5350248.04                 West Humber-Clairville    Economic   \n",
      "71705  5350098.00               Junction-Wallace Emerson    Economic   \n",
      "71706  5350196.01                     Leaside-Bennington    Economic   \n",
      "71707  5350269.02               Parkwoods-O'Connor Hills    Economic   \n",
      "71708  5350362.02                         Highland Creek    Economic   \n",
      "\n",
      "                             Metric_Name  Travel_Time_Threshold     Category  \\\n",
      "0      Number of Destinations Accessible                   30.0     Hospital   \n",
      "1      Number of Destinations Accessible                   30.0     Hospital   \n",
      "2      Number of Destinations Accessible                   30.0     Hospital   \n",
      "3      Number of Destinations Accessible                   30.0     Hospital   \n",
      "4      Number of Destinations Accessible                   30.0     Hospital   \n",
      "...                                  ...                    ...          ...   \n",
      "71704                         Job Access                   15.0  Grand Total   \n",
      "71705                         Job Access                   15.0  Grand Total   \n",
      "71706                         Job Access                   15.0  Grand Total   \n",
      "71707                         Job Access                   15.0  Grand Total   \n",
      "71708                         Job Access                   15.0  Grand Total   \n",
      "\n",
      "      Before_After_Difference  Value  \n",
      "0                      before    0.0  \n",
      "1                       after    0.0  \n",
      "2                  difference    0.0  \n",
      "3                      before    0.0  \n",
      "4                       after    0.0  \n",
      "...                       ...    ...  \n",
      "71704              difference    0.0  \n",
      "71705              difference    0.0  \n",
      "71706              difference    0.0  \n",
      "71707              difference    0.0  \n",
      "71708              difference    0.0  \n",
      "\n",
      "[71709 rows x 8 columns]\n"
     ]
    }
   ],
   "source": [
    "import pandas as pd\n",
    "df = pd.read_csv(\"/Users/max/Desktop/Transit_Dashboard/data/visual_data/total_Metric_Table_Ontario_Line_Updated2.csv\")\n",
    "\n",
    "# Rename \"Before_After_Benefit\" column and update the values\n",
    "df.rename(columns={\"Before_After_Benefit\": \"Before_After_Difference\"}, inplace=True)\n",
    "df[\"Before_After_Difference\"] = df[\"Before_After_Difference\"].replace(\"benefit\", \"difference\")\n",
    "\n",
    "# Display the modified DataFrame\n",
    "\n",
    "df.to_csv(\"/Users/max/Desktop/Transit_Dashboard/data/visual_data/total_Metric_Table_Ontario_Line_Updated3.csv\", index=False)\n",
    "print(df)"
   ]
  }
 ],
 "metadata": {
  "kernelspec": {
   "display_name": "Python 3",
   "language": "python",
   "name": "python3"
  },
  "language_info": {
   "codemirror_mode": {
    "name": "ipython",
    "version": 3
   },
   "file_extension": ".py",
   "mimetype": "text/x-python",
   "name": "python",
   "nbconvert_exporter": "python",
   "pygments_lexer": "ipython3",
   "version": "3.9.13"
  }
 },
 "nbformat": 4,
 "nbformat_minor": 2
}
